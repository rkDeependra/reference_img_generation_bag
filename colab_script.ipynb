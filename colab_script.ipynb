{
  "nbformat": 4,
  "nbformat_minor": 0,
  "metadata": {
    "colab": {
      "name": "Untitled2.ipynb",
      "provenance": [],
      "authorship_tag": "ABX9TyNh0J2wJQwKX/wqHPxSAvQ1",
      "include_colab_link": true
    },
    "kernelspec": {
      "name": "python3",
      "display_name": "Python 3"
    },
    "language_info": {
      "name": "python"
    }
  },
  "cells": [
    {
      "cell_type": "markdown",
      "metadata": {
        "id": "view-in-github",
        "colab_type": "text"
      },
      "source": [
        "<a href=\"https://colab.research.google.com/github/rkstar1207/reference_img_generation_bag/blob/main/colab_script.ipynb\" target=\"_parent\"><img src=\"https://colab.research.google.com/assets/colab-badge.svg\" alt=\"Open In Colab\"/></a>"
      ]
    },
    {
      "cell_type": "markdown",
      "metadata": {
        "id": "8_hpQSsPR4sd"
      },
      "source": [
        "**Image Reference - Bag**"
      ]
    },
    {
      "cell_type": "code",
      "metadata": {
        "id": "WIZjeFfGSFBg"
      },
      "source": [
        "#resize object with reference\n",
        "\n",
        "def resize_image(item_img,item_height,reference_img,reference_object_height):\n",
        "  reference_object_size = reference_img.size\n",
        "  sample_object_size = item_img.size\n",
        "\n",
        "  resized_sample_object_height = (reference_object_size[1] * item_height)//reference_object_height\n",
        "  resized_sample_object_width = (sample_object_size[0] * resized_sample_object_height) // sample_object_size[1]\n",
        "\n",
        "  item_img = item_img.resize((resized_sample_object_width,resized_sample_object_height))\n",
        "\n",
        "  return item_img"
      ],
      "execution_count": null,
      "outputs": []
    },
    {
      "cell_type": "code",
      "metadata": {
        "id": "hnp34LgiStV4"
      },
      "source": [
        "import math\n",
        "from PIL import Image, ImageDraw\n",
        "\n",
        "def draw_line(img,shape):\n",
        "  img1 = ImageDraw.Draw(img)  \n",
        "  img1.line(shape, fill =\"black\", width = 0)\n",
        "  return img\n",
        "\n",
        "def draw_dimensional_lines(img,item_height,item_width):\n",
        "  img_size = img.size\n",
        "  img = draw_line(img,[(0,img_size[1]+2), (img_size[0],img_size[1]+2)])\n",
        "  \n",
        "  return img"
      ],
      "execution_count": null,
      "outputs": []
    },
    {
      "cell_type": "code",
      "metadata": {
        "id": "Vtc7GTNQSwwG"
      },
      "source": [
        "from PIL import Image, ImageDraw, ImageFont\n",
        "\n",
        "def add_text(img,position,text,font_size):\n",
        "  font = ImageFont.truetype('/content/arial.ttf', font_size)\n",
        "  img1 = ImageDraw.Draw(img)\n",
        "  img1.text(position,text, fill=\"black\", font=font)\n",
        "  return img"
      ],
      "execution_count": null,
      "outputs": []
    },
    {
      "cell_type": "code",
      "metadata": {
        "id": "3AbQzB3sTCq2"
      },
      "source": [
        "def add_dimensions(item_img,item_height,item_width,margin):\n",
        "  item_img_size = item_img.size\n",
        "  text_size = 40\n",
        "  img = Image.new(\"RGB\",(item_img_size[0]+margin,item_img_size[1]+margin), (255,255,255));\n",
        "  img.paste(item_img,(margin,0))\n",
        "\n",
        "#horizontal width\n",
        "  img = draw_line(img,[(margin*2,item_img_size[1]+margin//2),(item_img_size[0],item_img_size[1]+margin//2)])\n",
        "  img = add_text(img,(item_img_size[0]//2 + margin,item_img_size[1] + margin//2 - text_size), str(item_width) + \" in.\", text_size)\n",
        "  \n",
        "  #vertical height\n",
        "  img = draw_line(img,[(margin - margin//5,margin*3),(margin - margin//5,item_img_size[1]-margin)])\n",
        "  img = add_text(img,(0,item_img_size[1]//2), str(item_height)+\" in.\",text_size)\n",
        "  return img"
      ],
      "execution_count": null,
      "outputs": []
    },
    {
      "cell_type": "code",
      "metadata": {
        "id": "duVG8nQyS9A3"
      },
      "source": [
        "item_img = Image.open(\"/content/140846452.jpeg\")\n",
        "item_height = 10\n",
        "item_width = 14\n",
        "margin = 100\n",
        "\n",
        "img_dimensional = add_dimensions(item_img,item_height,item_width,margin)\n",
        "img_dimensional.save(\"/content/dimensional_140846452.jpeg\",\"PNG\")\n",
        "\n",
        "\n",
        "# reference_img = Image.open(\"/content/col7-removebg-preview.png\")\n",
        "# reference_object_height = 70\n",
        "# reference_img_size = reference_img.size\n",
        "\n",
        "# img_dimensional_resized = resize_image(img_dimensional,item_height,reference_img,reference_object_height)\n",
        "\n",
        "# reference_img.paste(img_dimensional_resized,(50,300))\n",
        "# reference_img.save(\"/content/reference_img_140846452.jpeg\",\"PNG\")\n",
        "print(\"successfull!!\")"
      ],
      "execution_count": null,
      "outputs": []
    },
    {
      "cell_type": "code",
      "metadata": {
        "id": "ho_gBKw4SLAe"
      },
      "source": [
        "import glob\n",
        "\n",
        "for filepath in glob.iglob(r'/content/*'):\n",
        "  filename = filepath.split(\"/\")[-1]\n",
        "  item_img = Image.open(filepath)\n",
        "\n",
        "  #comes from item attributes\n",
        "  item_height = 15 \n",
        "  item_width = 12\n",
        "  \n",
        "  reference_img = Image.open(\"/content/00193633113343.jpg\")\n",
        "  reference_object_height = 70\n",
        "  item_img = transformToTransparentBackground(item_img)\n",
        "  item_img = resize_image(item_img,int(item_height),reference_img,reference_object_height)\n",
        "  item_img_size = item_img.size\n",
        "\n",
        "  posx = 275\n",
        "  posy = 1130\n",
        "  reference_img.paste(item_img,(posx,posy),mask = item_img)\n",
        "\n",
        "  reference_img.save(\"/content/reference_img_\"+filename, \"JPEG\")\n",
        "print(\"Successful\")"
      ],
      "execution_count": null,
      "outputs": []
    }
  ]
}